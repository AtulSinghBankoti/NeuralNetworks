{
 "cells": [
  {
   "cell_type": "code",
   "execution_count": 3,
   "metadata": {},
   "outputs": [],
   "source": [
    "import sklearn\n",
    "\n",
    "import pandas as pd\n",
    "import numpy as np\n",
    "import matplotlib.pyplot as plt\n",
    "\n",
    "import cv2\n",
    "\n",
    "import os"
   ]
  },
  {
   "cell_type": "code",
   "execution_count": null,
   "metadata": {},
   "outputs": [],
   "source": [
    "#https://www.kaggle.com/joosthazelzet/lego-brick-images"
   ]
  },
  {
   "cell_type": "code",
   "execution_count": 11,
   "metadata": {},
   "outputs": [],
   "source": [
    "DATASET_PATH='LEGO/'"
   ]
  },
  {
   "cell_type": "code",
   "execution_count": 14,
   "metadata": {},
   "outputs": [],
   "source": [
    "def load_images(path):\n",
    "    images_train = []\n",
    "    labels_train = []\n",
    "    \n",
    "    for sub_folder in os.listdir(path):\n",
    "        fullpath = os.path.join(path, sub_folder)\n",
    "        print(fullpath)\n",
    "        \n",
    "        if not os.path.isdir(fullpath):\n",
    "            continue\n",
    "            \n",
    "        images = os.listdir(fullpath)\n",
    "        \n",
    "        for image_filename in images:\n",
    "            image_fullpath = os.path.join(fullpath, image_filename)\n",
    "            \n",
    "            if os.path.isdir(image_fullpath):\n",
    "                continue\n",
    "                \n",
    "            img = cv2.imread(image_fullpath)\n",
    "            \n",
    "            images_train.append(img)\n",
    "            labels_train.append(sub_folder)\n",
    "            \n",
    "    return np.array(images_train), np.array(labels_train)"
   ]
  },
  {
   "cell_type": "code",
   "execution_count": 15,
   "metadata": {},
   "outputs": [
    {
     "name": "stdout",
     "output_type": "stream",
     "text": [
      "LEGO/11214 Bush 3M friction with Cross axle\n",
      "LEGO/18651 Cross Axle 2M with Snap friction\n",
      "LEGO/2357 Brick corner 1x2x2\n",
      "LEGO/3003 Brick 2x2\n",
      "LEGO/3004 Brick 1x2\n",
      "LEGO/3005 Brick 1x1\n",
      "LEGO/3022 Plate 2x2\n",
      "LEGO/3023 Plate 1x2\n",
      "LEGO/3024 Plate 1x1\n",
      "LEGO/3040 Roof Tile 1x2x45deg\n",
      "LEGO/3069 Flat Tile 1x2\n",
      "LEGO/32123 half Bush\n",
      "LEGO/3673 Peg 2M\n",
      "LEGO/3713 Bush for Cross Axle\n",
      "LEGO/3794 Plate 1X2 with 1 Knob\n",
      "LEGO/6632 Technic Lever 3M\n"
     ]
    }
   ],
   "source": [
    "images_train, labels_train =load_images(DATASET_PATH)"
   ]
  },
  {
   "cell_type": "code",
   "execution_count": 16,
   "metadata": {},
   "outputs": [
    {
     "data": {
      "text/plain": [
       "(6379, 200, 200, 3)"
      ]
     },
     "execution_count": 16,
     "metadata": {},
     "output_type": "execute_result"
    }
   ],
   "source": [
    "images_train.shape"
   ]
  },
  {
   "cell_type": "code",
   "execution_count": 17,
   "metadata": {},
   "outputs": [
    {
     "data": {
      "text/plain": [
       "(200, 200, 3)"
      ]
     },
     "execution_count": 17,
     "metadata": {},
     "output_type": "execute_result"
    }
   ],
   "source": [
    "images_train[0].shape"
   ]
  },
  {
   "cell_type": "code",
   "execution_count": 18,
   "metadata": {},
   "outputs": [
    {
     "data": {
      "text/plain": [
       "(6379,)"
      ]
     },
     "execution_count": 18,
     "metadata": {},
     "output_type": "execute_result"
    }
   ],
   "source": [
    "labels_train.shape"
   ]
  },
  {
   "cell_type": "code",
   "execution_count": 20,
   "metadata": {},
   "outputs": [
    {
     "name": "stdout",
     "output_type": "stream",
     "text": [
      "Label: 11214 Bush 3M friction with Cross axle\n"
     ]
    },
    {
     "data": {
      "image/png": "[encoded data removed]",
      "text/plain": [
       "<Figure size 432x288 with 1 Axes>"
      ]
     },
     "metadata": {
      "needs_background": "light"
     },
     "output_type": "display_data"
    }
   ],
   "source": [
    "plt.imshow(images_train[10])\n",
    "\n",
    "print('Label:', labels_train[10])"
   ]
  },
  {
   "cell_type": "code",
   "execution_count": 22,
   "metadata": {},
   "outputs": [
    {
     "name": "stdout",
     "output_type": "stream",
     "text": [
      "Label: 11214 Bush 3M friction with Cross axle\n"
     ]
    },
    {
     "data": {
      "image/png": "[encoded data removed]",
      "text/plain": [
       "<Figure size 432x288 with 1 Axes>"
      ]
     },
     "metadata": {
      "needs_background": "light"
     },
     "output_type": "display_data"
    }
   ],
   "source": [
    "plt.imshow(images_train[111])\n",
    "\n",
    "print('Label:', labels_train[111])"
   ]
  },
  {
   "cell_type": "code",
   "execution_count": 24,
   "metadata": {},
   "outputs": [],
   "source": [
    "X = images_train.reshape(images_train.shape[0],\n",
    "                        images_train.shape[1] * images_train.shape[2] * images_train.shape[3])"
   ]
  },
  {
   "cell_type": "code",
   "execution_count": 25,
   "metadata": {},
   "outputs": [
    {
     "data": {
      "text/plain": [
       "(6379, 120000)"
      ]
     },
     "execution_count": 25,
     "metadata": {},
     "output_type": "execute_result"
    }
   ],
   "source": [
    "X.shape"
   ]
  },
  {
   "cell_type": "code",
   "execution_count": 27,
   "metadata": {},
   "outputs": [],
   "source": [
    "from sklearn.preprocessing import LabelEncoder\n",
    "\n",
    "encoder = LabelEncoder()\n",
    "\n",
    "Y = encoder.fit_transform(labels_train)"
   ]
  },
  {
   "cell_type": "code",
   "execution_count": 28,
   "metadata": {},
   "outputs": [
    {
     "data": {
      "text/plain": [
       "array([ 0,  1,  2,  3,  4,  5,  6,  7,  8,  9, 10, 11, 12, 13, 14, 15],\n",
       "      dtype=int64)"
      ]
     },
     "execution_count": 28,
     "metadata": {},
     "output_type": "execute_result"
    }
   ],
   "source": [
    "np.unique(Y)"
   ]
  },
  {
   "cell_type": "code",
   "execution_count": 29,
   "metadata": {},
   "outputs": [
    {
     "data": {
      "text/plain": [
       "((5103, 120000), (5103,))"
      ]
     },
     "execution_count": 29,
     "metadata": {},
     "output_type": "execute_result"
    }
   ],
   "source": [
    "from sklearn.model_selection import train_test_split\n",
    "\n",
    "x_train, x_test, y_train, y_test = train_test_split(X, Y, shuffle=True, test_size=0.2)\n",
    "\n",
    "x_train.shape, y_train.shape"
   ]
  },
  {
   "cell_type": "code",
   "execution_count": 30,
   "metadata": {},
   "outputs": [
    {
     "data": {
      "text/plain": [
       "((1276, 120000), (1276,))"
      ]
     },
     "execution_count": 30,
     "metadata": {},
     "output_type": "execute_result"
    }
   ],
   "source": [
    "x_test.shape, y_test.shape"
   ]
  },
  {
   "cell_type": "code",
   "execution_count": 31,
   "metadata": {},
   "outputs": [],
   "source": [
    "from sklearn.neural_network import MLPClassifier"
   ]
  },
  {
   "cell_type": "code",
   "execution_count": 32,
   "metadata": {},
   "outputs": [],
   "source": [
    "clf_image = MLPClassifier(activation = 'relu',\n",
    "                         hidden_layer_sizes=(100,100,100),\n",
    "                         solver='adam',\n",
    "                         verbose=True,\n",
    "                         max_iter=100)"
   ]
  },
  {
   "cell_type": "code",
   "execution_count": 33,
   "metadata": {},
   "outputs": [
    {
     "name": "stdout",
     "output_type": "stream",
     "text": [
      "Iteration 1, loss = inf\n",
      "Iteration 2, loss = 32.13637579\n",
      "Iteration 3, loss = 9.14269286\n",
      "Iteration 4, loss = 4.64040513\n",
      "Iteration 5, loss = 5.17233803\n",
      "Iteration 6, loss = 7.03526971\n",
      "Iteration 7, loss = 8.14814021\n",
      "Iteration 8, loss = 5.04309911\n",
      "Iteration 9, loss = 2.81420326\n",
      "Iteration 10, loss = 1.50836345\n",
      "Iteration 11, loss = 1.31449096\n",
      "Iteration 12, loss = 1.70399081\n",
      "Iteration 13, loss = 1.18921774\n",
      "Iteration 14, loss = 3.01107193\n",
      "Iteration 15, loss = 2.68207263\n",
      "Iteration 16, loss = 1.63813523\n",
      "Iteration 17, loss = 1.41563654\n",
      "Iteration 18, loss = 1.03006017\n",
      "Iteration 19, loss = 0.93512713\n",
      "Iteration 20, loss = 1.67544696\n",
      "Iteration 21, loss = 2.35170245\n",
      "Iteration 22, loss = 1.08061979\n",
      "Iteration 23, loss = 0.98469542\n",
      "Iteration 24, loss = 0.70802773\n",
      "Iteration 25, loss = 1.24321804\n",
      "Iteration 26, loss = 1.10599937\n",
      "Iteration 27, loss = 0.83950338\n",
      "Iteration 28, loss = 0.63600322\n",
      "Iteration 29, loss = 1.73959851\n",
      "Iteration 30, loss = 2.79117176\n",
      "Iteration 31, loss = 2.79576962\n",
      "Iteration 32, loss = 6.12791013\n",
      "Iteration 33, loss = 3.95030629\n",
      "Iteration 34, loss = 3.15513682\n",
      "Iteration 35, loss = 1.68181025\n",
      "Iteration 36, loss = 1.27966368\n",
      "Iteration 37, loss = 0.77454325\n",
      "Iteration 38, loss = 0.51344783\n",
      "Iteration 39, loss = 0.70251067\n",
      "Iteration 40, loss = 0.37743767\n",
      "Iteration 41, loss = 0.96453107\n",
      "Iteration 42, loss = 2.01193044\n",
      "Iteration 43, loss = 1.61982610\n",
      "Iteration 44, loss = 1.45134925\n",
      "Iteration 45, loss = 1.43047819\n",
      "Iteration 46, loss = 1.18626540\n",
      "Iteration 47, loss = 0.77440543\n",
      "Iteration 48, loss = 0.98662476\n",
      "Iteration 49, loss = 1.58949269\n",
      "Iteration 50, loss = 0.90213084\n",
      "Iteration 51, loss = 0.28332069\n",
      "Iteration 52, loss = 0.30899969\n",
      "Iteration 53, loss = 0.26601597\n",
      "Iteration 54, loss = 0.29885684\n",
      "Iteration 55, loss = 0.24433946\n",
      "Iteration 56, loss = 0.39533198\n",
      "Iteration 57, loss = 0.36896645\n",
      "Iteration 58, loss = 1.76157401\n",
      "Iteration 59, loss = 2.61915137\n",
      "Iteration 60, loss = 2.04653895\n",
      "Iteration 61, loss = 0.93312296\n",
      "Iteration 62, loss = 0.67937899\n",
      "Iteration 63, loss = 0.49194582\n",
      "Iteration 64, loss = 0.49829891\n",
      "Iteration 65, loss = 0.22638237\n",
      "Iteration 66, loss = 0.30621180\n",
      "Iteration 67, loss = 0.49963881\n",
      "Iteration 68, loss = 0.66060459\n",
      "Iteration 69, loss = 0.44519431\n",
      "Iteration 70, loss = 0.75552989\n",
      "Iteration 71, loss = 0.95046098\n",
      "Iteration 72, loss = 1.82314312\n",
      "Iteration 73, loss = 0.72807402\n",
      "Iteration 74, loss = 0.79029754\n",
      "Iteration 75, loss = 1.04257227\n",
      "Iteration 76, loss = 2.47830291\n",
      "Training loss did not improve more than tol=0.000100 for 10 consecutive epochs. Stopping.\n"
     ]
    },
    {
     "data": {
      "text/plain": [
       "MLPClassifier(activation='relu', alpha=0.0001, batch_size='auto', beta_1=0.9,\n",
       "              beta_2=0.999, early_stopping=False, epsilon=1e-08,\n",
       "              hidden_layer_sizes=(100, 100, 100), learning_rate='constant',\n",
       "              learning_rate_init=0.001, max_iter=100, momentum=0.9,\n",
       "              n_iter_no_change=10, nesterovs_momentum=True, power_t=0.5,\n",
       "              random_state=None, shuffle=True, solver='adam', tol=0.0001,\n",
       "              validation_fraction=0.1, verbose=True, warm_start=False)"
      ]
     },
     "execution_count": 33,
     "metadata": {},
     "output_type": "execute_result"
    }
   ],
   "source": [
    "clf_image.fit(x_train, y_train)"
   ]
  },
  {
   "cell_type": "code",
   "execution_count": 34,
   "metadata": {},
   "outputs": [
    {
     "data": {
      "text/plain": [
       "0.8330721003134797"
      ]
     },
     "execution_count": 34,
     "metadata": {},
     "output_type": "execute_result"
    }
   ],
   "source": [
    "y_pred = clf_image.predict(x_test)\n",
    "\n",
    "from sklearn.metrics import accuracy_score\n",
    "\n",
    "accuracy_score(y_test, y_pred)"
   ]
  },
  {
   "cell_type": "code",
   "execution_count": null,
   "metadata": {},
   "outputs": [],
   "source": []
  }
 ],
 "metadata": {
  "kernelspec": {
   "display_name": "Python 3",
   "language": "python",
   "name": "python3"
  },
  "language_info": {
   "codemirror_mode": {
    "name": "ipython",
    "version": 3
   },
   "file_extension": ".py",
   "mimetype": "text/x-python",
   "name": "python",
   "nbconvert_exporter": "python",
   "pygments_lexer": "ipython3",
   "version": "3.7.4"
  }
 },
 "nbformat": 4,
 "nbformat_minor": 4
}
